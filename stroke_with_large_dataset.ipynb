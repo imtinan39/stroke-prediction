{
 "cells": [
  {
   "cell_type": "code",
   "execution_count": 264,
   "metadata": {},
   "outputs": [],
   "source": [
    "import pandas as pd\n",
    "import matplotlib.pyplot as plt\n",
    "import seaborn as sns\n",
    "from sklearn.preprocessing import LabelEncoder\n",
    "from sklearn.linear_model import LogisticRegression\n",
    "from sklearn.model_selection import train_test_split\n",
    "from sklearn.metrics import classification_report,confusion_matrix\n",
    "from sklearn import metrics,preprocessing\n",
    "from sklearn.ensemble import RandomForestClassifier\n",
    "from sklearn.tree import DecisionTreeClassifier\n",
    "from sklearn.ensemble import AdaBoostClassifier\n",
    "from sklearn.metrics import roc_curve, roc_auc_score\n",
    "from sklearn.model_selection import GridSearchCV\n",
    "from sklearn import svm\n",
    "from sklearn.naive_bayes import GaussianNB\n",
    "from imblearn.over_sampling import SMOTE"
   ]
  },
  {
   "cell_type": "code",
   "execution_count": 265,
   "metadata": {},
   "outputs": [],
   "source": [
    "df=pd.read_csv(r\"C:\\Users\\USER\\ML_PROJECT\\stroke\\strokedataset.csv\")"
   ]
  },
  {
   "cell_type": "code",
   "execution_count": 266,
   "metadata": {},
   "outputs": [],
   "source": [
    "df=df.drop('id',axis=1)"
   ]
  },
  {
   "cell_type": "code",
   "execution_count": 267,
   "metadata": {},
   "outputs": [
    {
     "name": "stdout",
     "output_type": "stream",
     "text": [
      "<class 'pandas.core.frame.DataFrame'>\n",
      "RangeIndex: 43400 entries, 0 to 43399\n",
      "Data columns (total 11 columns):\n",
      "gender               43400 non-null object\n",
      "age                  43400 non-null float64\n",
      "hypertension         43400 non-null int64\n",
      "heart_disease        43400 non-null int64\n",
      "ever_married         43400 non-null object\n",
      "work_type            43400 non-null object\n",
      "Residence_type       43400 non-null object\n",
      "avg_glucose_level    43400 non-null float64\n",
      "bmi                  41938 non-null float64\n",
      "smoking_status       30108 non-null object\n",
      "stroke               43400 non-null int64\n",
      "dtypes: float64(3), int64(3), object(5)\n",
      "memory usage: 3.6+ MB\n"
     ]
    }
   ],
   "source": [
    "df.info()"
   ]
  },
  {
   "cell_type": "code",
   "execution_count": 268,
   "metadata": {},
   "outputs": [
    {
     "data": {
      "text/html": [
       "<div>\n",
       "<style scoped>\n",
       "    .dataframe tbody tr th:only-of-type {\n",
       "        vertical-align: middle;\n",
       "    }\n",
       "\n",
       "    .dataframe tbody tr th {\n",
       "        vertical-align: top;\n",
       "    }\n",
       "\n",
       "    .dataframe thead th {\n",
       "        text-align: right;\n",
       "    }\n",
       "</style>\n",
       "<table border=\"1\" class=\"dataframe\">\n",
       "  <thead>\n",
       "    <tr style=\"text-align: right;\">\n",
       "      <th></th>\n",
       "      <th>gender</th>\n",
       "      <th>age</th>\n",
       "      <th>hypertension</th>\n",
       "      <th>heart_disease</th>\n",
       "      <th>ever_married</th>\n",
       "      <th>work_type</th>\n",
       "      <th>Residence_type</th>\n",
       "      <th>avg_glucose_level</th>\n",
       "      <th>bmi</th>\n",
       "      <th>smoking_status</th>\n",
       "      <th>stroke</th>\n",
       "    </tr>\n",
       "  </thead>\n",
       "  <tbody>\n",
       "    <tr>\n",
       "      <td>0</td>\n",
       "      <td>Male</td>\n",
       "      <td>3.0</td>\n",
       "      <td>0</td>\n",
       "      <td>0</td>\n",
       "      <td>No</td>\n",
       "      <td>children</td>\n",
       "      <td>Rural</td>\n",
       "      <td>95.12</td>\n",
       "      <td>18.0</td>\n",
       "      <td>NaN</td>\n",
       "      <td>0</td>\n",
       "    </tr>\n",
       "    <tr>\n",
       "      <td>1</td>\n",
       "      <td>Male</td>\n",
       "      <td>58.0</td>\n",
       "      <td>1</td>\n",
       "      <td>0</td>\n",
       "      <td>Yes</td>\n",
       "      <td>Private</td>\n",
       "      <td>Urban</td>\n",
       "      <td>87.96</td>\n",
       "      <td>39.2</td>\n",
       "      <td>never smoked</td>\n",
       "      <td>0</td>\n",
       "    </tr>\n",
       "    <tr>\n",
       "      <td>2</td>\n",
       "      <td>Female</td>\n",
       "      <td>8.0</td>\n",
       "      <td>0</td>\n",
       "      <td>0</td>\n",
       "      <td>No</td>\n",
       "      <td>Private</td>\n",
       "      <td>Urban</td>\n",
       "      <td>110.89</td>\n",
       "      <td>17.6</td>\n",
       "      <td>NaN</td>\n",
       "      <td>0</td>\n",
       "    </tr>\n",
       "    <tr>\n",
       "      <td>3</td>\n",
       "      <td>Female</td>\n",
       "      <td>70.0</td>\n",
       "      <td>0</td>\n",
       "      <td>0</td>\n",
       "      <td>Yes</td>\n",
       "      <td>Private</td>\n",
       "      <td>Rural</td>\n",
       "      <td>69.04</td>\n",
       "      <td>35.9</td>\n",
       "      <td>formerly smoked</td>\n",
       "      <td>0</td>\n",
       "    </tr>\n",
       "    <tr>\n",
       "      <td>4</td>\n",
       "      <td>Male</td>\n",
       "      <td>14.0</td>\n",
       "      <td>0</td>\n",
       "      <td>0</td>\n",
       "      <td>No</td>\n",
       "      <td>Never_worked</td>\n",
       "      <td>Rural</td>\n",
       "      <td>161.28</td>\n",
       "      <td>19.1</td>\n",
       "      <td>NaN</td>\n",
       "      <td>0</td>\n",
       "    </tr>\n",
       "    <tr>\n",
       "      <td>...</td>\n",
       "      <td>...</td>\n",
       "      <td>...</td>\n",
       "      <td>...</td>\n",
       "      <td>...</td>\n",
       "      <td>...</td>\n",
       "      <td>...</td>\n",
       "      <td>...</td>\n",
       "      <td>...</td>\n",
       "      <td>...</td>\n",
       "      <td>...</td>\n",
       "      <td>...</td>\n",
       "    </tr>\n",
       "    <tr>\n",
       "      <td>43395</td>\n",
       "      <td>Female</td>\n",
       "      <td>10.0</td>\n",
       "      <td>0</td>\n",
       "      <td>0</td>\n",
       "      <td>No</td>\n",
       "      <td>children</td>\n",
       "      <td>Urban</td>\n",
       "      <td>58.64</td>\n",
       "      <td>20.4</td>\n",
       "      <td>never smoked</td>\n",
       "      <td>0</td>\n",
       "    </tr>\n",
       "    <tr>\n",
       "      <td>43396</td>\n",
       "      <td>Female</td>\n",
       "      <td>56.0</td>\n",
       "      <td>0</td>\n",
       "      <td>0</td>\n",
       "      <td>Yes</td>\n",
       "      <td>Govt_job</td>\n",
       "      <td>Urban</td>\n",
       "      <td>213.61</td>\n",
       "      <td>55.4</td>\n",
       "      <td>formerly smoked</td>\n",
       "      <td>0</td>\n",
       "    </tr>\n",
       "    <tr>\n",
       "      <td>43397</td>\n",
       "      <td>Female</td>\n",
       "      <td>82.0</td>\n",
       "      <td>1</td>\n",
       "      <td>0</td>\n",
       "      <td>Yes</td>\n",
       "      <td>Private</td>\n",
       "      <td>Urban</td>\n",
       "      <td>91.94</td>\n",
       "      <td>28.9</td>\n",
       "      <td>formerly smoked</td>\n",
       "      <td>0</td>\n",
       "    </tr>\n",
       "    <tr>\n",
       "      <td>43398</td>\n",
       "      <td>Male</td>\n",
       "      <td>40.0</td>\n",
       "      <td>0</td>\n",
       "      <td>0</td>\n",
       "      <td>Yes</td>\n",
       "      <td>Private</td>\n",
       "      <td>Urban</td>\n",
       "      <td>99.16</td>\n",
       "      <td>33.2</td>\n",
       "      <td>never smoked</td>\n",
       "      <td>0</td>\n",
       "    </tr>\n",
       "    <tr>\n",
       "      <td>43399</td>\n",
       "      <td>Female</td>\n",
       "      <td>82.0</td>\n",
       "      <td>0</td>\n",
       "      <td>0</td>\n",
       "      <td>Yes</td>\n",
       "      <td>Private</td>\n",
       "      <td>Urban</td>\n",
       "      <td>79.48</td>\n",
       "      <td>20.6</td>\n",
       "      <td>never smoked</td>\n",
       "      <td>0</td>\n",
       "    </tr>\n",
       "  </tbody>\n",
       "</table>\n",
       "<p>43400 rows × 11 columns</p>\n",
       "</div>"
      ],
      "text/plain": [
       "       gender   age  hypertension  heart_disease ever_married     work_type  \\\n",
       "0        Male   3.0             0              0           No      children   \n",
       "1        Male  58.0             1              0          Yes       Private   \n",
       "2      Female   8.0             0              0           No       Private   \n",
       "3      Female  70.0             0              0          Yes       Private   \n",
       "4        Male  14.0             0              0           No  Never_worked   \n",
       "...       ...   ...           ...            ...          ...           ...   \n",
       "43395  Female  10.0             0              0           No      children   \n",
       "43396  Female  56.0             0              0          Yes      Govt_job   \n",
       "43397  Female  82.0             1              0          Yes       Private   \n",
       "43398    Male  40.0             0              0          Yes       Private   \n",
       "43399  Female  82.0             0              0          Yes       Private   \n",
       "\n",
       "      Residence_type  avg_glucose_level   bmi   smoking_status  stroke  \n",
       "0              Rural              95.12  18.0              NaN       0  \n",
       "1              Urban              87.96  39.2     never smoked       0  \n",
       "2              Urban             110.89  17.6              NaN       0  \n",
       "3              Rural              69.04  35.9  formerly smoked       0  \n",
       "4              Rural             161.28  19.1              NaN       0  \n",
       "...              ...                ...   ...              ...     ...  \n",
       "43395          Urban              58.64  20.4     never smoked       0  \n",
       "43396          Urban             213.61  55.4  formerly smoked       0  \n",
       "43397          Urban              91.94  28.9  formerly smoked       0  \n",
       "43398          Urban              99.16  33.2     never smoked       0  \n",
       "43399          Urban              79.48  20.6     never smoked       0  \n",
       "\n",
       "[43400 rows x 11 columns]"
      ]
     },
     "execution_count": 268,
     "metadata": {},
     "output_type": "execute_result"
    }
   ],
   "source": [
    "df"
   ]
  },
  {
   "cell_type": "code",
   "execution_count": 269,
   "metadata": {},
   "outputs": [
    {
     "data": {
      "text/plain": [
       "<matplotlib.axes._subplots.AxesSubplot at 0x2401c85dc88>"
      ]
     },
     "execution_count": 269,
     "metadata": {},
     "output_type": "execute_result"
    },
    {
     "data": {
      "image/png": "[encoded data removed]",
      "text/plain": [
       "<Figure size 432x288 with 2 Axes>"
      ]
     },
     "metadata": {
      "needs_background": "light"
     },
     "output_type": "display_data"
    }
   ],
   "source": [
    "sns.heatmap(df.isnull())"
   ]
  },
  {
   "cell_type": "code",
   "execution_count": 270,
   "metadata": {},
   "outputs": [],
   "source": [
    "df.dropna(axis=0,inplace=True)"
   ]
  },
  {
   "cell_type": "code",
   "execution_count": 271,
   "metadata": {},
   "outputs": [
    {
     "data": {
      "text/plain": [
       "<matplotlib.axes._subplots.AxesSubplot at 0x2401efa6088>"
      ]
     },
     "execution_count": 271,
     "metadata": {},
     "output_type": "execute_result"
    },
    {
     "data": {
      "image/png": "[encoded data removed]",
      "text/plain": [
       "<Figure size 432x288 with 2 Axes>"
      ]
     },
     "metadata": {
      "needs_background": "light"
     },
     "output_type": "display_data"
    }
   ],
   "source": [
    "sns.heatmap(df.isnull())"
   ]
  },
  {
   "cell_type": "code",
   "execution_count": 272,
   "metadata": {},
   "outputs": [
    {
     "data": {
      "text/html": [
       "<div>\n",
       "<style scoped>\n",
       "    .dataframe tbody tr th:only-of-type {\n",
       "        vertical-align: middle;\n",
       "    }\n",
       "\n",
       "    .dataframe tbody tr th {\n",
       "        vertical-align: top;\n",
       "    }\n",
       "\n",
       "    .dataframe thead th {\n",
       "        text-align: right;\n",
       "    }\n",
       "</style>\n",
       "<table border=\"1\" class=\"dataframe\">\n",
       "  <thead>\n",
       "    <tr style=\"text-align: right;\">\n",
       "      <th></th>\n",
       "      <th>gender</th>\n",
       "      <th>age</th>\n",
       "      <th>hypertension</th>\n",
       "      <th>heart_disease</th>\n",
       "      <th>ever_married</th>\n",
       "      <th>work_type</th>\n",
       "      <th>Residence_type</th>\n",
       "      <th>avg_glucose_level</th>\n",
       "      <th>bmi</th>\n",
       "      <th>smoking_status</th>\n",
       "      <th>stroke</th>\n",
       "    </tr>\n",
       "  </thead>\n",
       "  <tbody>\n",
       "    <tr>\n",
       "      <td>1</td>\n",
       "      <td>Male</td>\n",
       "      <td>58.0</td>\n",
       "      <td>1</td>\n",
       "      <td>0</td>\n",
       "      <td>Yes</td>\n",
       "      <td>Private</td>\n",
       "      <td>Urban</td>\n",
       "      <td>87.96</td>\n",
       "      <td>39.2</td>\n",
       "      <td>never smoked</td>\n",
       "      <td>0</td>\n",
       "    </tr>\n",
       "    <tr>\n",
       "      <td>3</td>\n",
       "      <td>Female</td>\n",
       "      <td>70.0</td>\n",
       "      <td>0</td>\n",
       "      <td>0</td>\n",
       "      <td>Yes</td>\n",
       "      <td>Private</td>\n",
       "      <td>Rural</td>\n",
       "      <td>69.04</td>\n",
       "      <td>35.9</td>\n",
       "      <td>formerly smoked</td>\n",
       "      <td>0</td>\n",
       "    </tr>\n",
       "    <tr>\n",
       "      <td>6</td>\n",
       "      <td>Female</td>\n",
       "      <td>52.0</td>\n",
       "      <td>0</td>\n",
       "      <td>0</td>\n",
       "      <td>Yes</td>\n",
       "      <td>Private</td>\n",
       "      <td>Urban</td>\n",
       "      <td>77.59</td>\n",
       "      <td>17.7</td>\n",
       "      <td>formerly smoked</td>\n",
       "      <td>0</td>\n",
       "    </tr>\n",
       "    <tr>\n",
       "      <td>7</td>\n",
       "      <td>Female</td>\n",
       "      <td>75.0</td>\n",
       "      <td>0</td>\n",
       "      <td>1</td>\n",
       "      <td>Yes</td>\n",
       "      <td>Self-employed</td>\n",
       "      <td>Rural</td>\n",
       "      <td>243.53</td>\n",
       "      <td>27.0</td>\n",
       "      <td>never smoked</td>\n",
       "      <td>0</td>\n",
       "    </tr>\n",
       "    <tr>\n",
       "      <td>8</td>\n",
       "      <td>Female</td>\n",
       "      <td>32.0</td>\n",
       "      <td>0</td>\n",
       "      <td>0</td>\n",
       "      <td>Yes</td>\n",
       "      <td>Private</td>\n",
       "      <td>Rural</td>\n",
       "      <td>77.67</td>\n",
       "      <td>32.3</td>\n",
       "      <td>smokes</td>\n",
       "      <td>0</td>\n",
       "    </tr>\n",
       "    <tr>\n",
       "      <td>...</td>\n",
       "      <td>...</td>\n",
       "      <td>...</td>\n",
       "      <td>...</td>\n",
       "      <td>...</td>\n",
       "      <td>...</td>\n",
       "      <td>...</td>\n",
       "      <td>...</td>\n",
       "      <td>...</td>\n",
       "      <td>...</td>\n",
       "      <td>...</td>\n",
       "      <td>...</td>\n",
       "    </tr>\n",
       "    <tr>\n",
       "      <td>43395</td>\n",
       "      <td>Female</td>\n",
       "      <td>10.0</td>\n",
       "      <td>0</td>\n",
       "      <td>0</td>\n",
       "      <td>No</td>\n",
       "      <td>children</td>\n",
       "      <td>Urban</td>\n",
       "      <td>58.64</td>\n",
       "      <td>20.4</td>\n",
       "      <td>never smoked</td>\n",
       "      <td>0</td>\n",
       "    </tr>\n",
       "    <tr>\n",
       "      <td>43396</td>\n",
       "      <td>Female</td>\n",
       "      <td>56.0</td>\n",
       "      <td>0</td>\n",
       "      <td>0</td>\n",
       "      <td>Yes</td>\n",
       "      <td>Govt_job</td>\n",
       "      <td>Urban</td>\n",
       "      <td>213.61</td>\n",
       "      <td>55.4</td>\n",
       "      <td>formerly smoked</td>\n",
       "      <td>0</td>\n",
       "    </tr>\n",
       "    <tr>\n",
       "      <td>43397</td>\n",
       "      <td>Female</td>\n",
       "      <td>82.0</td>\n",
       "      <td>1</td>\n",
       "      <td>0</td>\n",
       "      <td>Yes</td>\n",
       "      <td>Private</td>\n",
       "      <td>Urban</td>\n",
       "      <td>91.94</td>\n",
       "      <td>28.9</td>\n",
       "      <td>formerly smoked</td>\n",
       "      <td>0</td>\n",
       "    </tr>\n",
       "    <tr>\n",
       "      <td>43398</td>\n",
       "      <td>Male</td>\n",
       "      <td>40.0</td>\n",
       "      <td>0</td>\n",
       "      <td>0</td>\n",
       "      <td>Yes</td>\n",
       "      <td>Private</td>\n",
       "      <td>Urban</td>\n",
       "      <td>99.16</td>\n",
       "      <td>33.2</td>\n",
       "      <td>never smoked</td>\n",
       "      <td>0</td>\n",
       "    </tr>\n",
       "    <tr>\n",
       "      <td>43399</td>\n",
       "      <td>Female</td>\n",
       "      <td>82.0</td>\n",
       "      <td>0</td>\n",
       "      <td>0</td>\n",
       "      <td>Yes</td>\n",
       "      <td>Private</td>\n",
       "      <td>Urban</td>\n",
       "      <td>79.48</td>\n",
       "      <td>20.6</td>\n",
       "      <td>never smoked</td>\n",
       "      <td>0</td>\n",
       "    </tr>\n",
       "  </tbody>\n",
       "</table>\n",
       "<p>29072 rows × 11 columns</p>\n",
       "</div>"
      ],
      "text/plain": [
       "       gender   age  hypertension  heart_disease ever_married      work_type  \\\n",
       "1        Male  58.0             1              0          Yes        Private   \n",
       "3      Female  70.0             0              0          Yes        Private   \n",
       "6      Female  52.0             0              0          Yes        Private   \n",
       "7      Female  75.0             0              1          Yes  Self-employed   \n",
       "8      Female  32.0             0              0          Yes        Private   \n",
       "...       ...   ...           ...            ...          ...            ...   \n",
       "43395  Female  10.0             0              0           No       children   \n",
       "43396  Female  56.0             0              0          Yes       Govt_job   \n",
       "43397  Female  82.0             1              0          Yes        Private   \n",
       "43398    Male  40.0             0              0          Yes        Private   \n",
       "43399  Female  82.0             0              0          Yes        Private   \n",
       "\n",
       "      Residence_type  avg_glucose_level   bmi   smoking_status  stroke  \n",
       "1              Urban              87.96  39.2     never smoked       0  \n",
       "3              Rural              69.04  35.9  formerly smoked       0  \n",
       "6              Urban              77.59  17.7  formerly smoked       0  \n",
       "7              Rural             243.53  27.0     never smoked       0  \n",
       "8              Rural              77.67  32.3           smokes       0  \n",
       "...              ...                ...   ...              ...     ...  \n",
       "43395          Urban              58.64  20.4     never smoked       0  \n",
       "43396          Urban             213.61  55.4  formerly smoked       0  \n",
       "43397          Urban              91.94  28.9  formerly smoked       0  \n",
       "43398          Urban              99.16  33.2     never smoked       0  \n",
       "43399          Urban              79.48  20.6     never smoked       0  \n",
       "\n",
       "[29072 rows x 11 columns]"
      ]
     },
     "execution_count": 272,
     "metadata": {},
     "output_type": "execute_result"
    }
   ],
   "source": [
    "df"
   ]
  },
  {
   "cell_type": "code",
   "execution_count": 273,
   "metadata": {},
   "outputs": [],
   "source": [
    "columns=df.columns"
   ]
  },
  {
   "cell_type": "code",
   "execution_count": 274,
   "metadata": {},
   "outputs": [
    {
     "name": "stdout",
     "output_type": "stream",
     "text": [
      "--------------------------------\n",
      "Female    17852\n",
      "Male      11213\n",
      "Other         7\n",
      "Name: gender, dtype: int64\n",
      "--------------------------------\n",
      "51.0    586\n",
      "52.0    560\n",
      "47.0    549\n",
      "50.0    544\n",
      "57.0    543\n",
      "       ... \n",
      "14.0    187\n",
      "13.0    157\n",
      "12.0    143\n",
      "11.0    107\n",
      "10.0     78\n",
      "Name: age, Length: 73, dtype: int64\n",
      "--------------------------------\n",
      "0    25831\n",
      "1     3241\n",
      "Name: hypertension, dtype: int64\n",
      "--------------------------------\n",
      "0    27556\n",
      "1     1516\n",
      "Name: heart_disease, dtype: int64\n",
      "--------------------------------\n",
      "Yes    21690\n",
      "No      7382\n",
      "Name: ever_married, dtype: int64\n",
      "--------------------------------\n",
      "Private          18954\n",
      "Self-employed     5204\n",
      "Govt_job          4196\n",
      "children           617\n",
      "Never_worked       101\n",
      "Name: work_type, dtype: int64\n",
      "--------------------------------\n",
      "Urban    14595\n",
      "Rural    14477\n",
      "Name: Residence_type, dtype: int64\n",
      "--------------------------------\n",
      "87.15     15\n",
      "73.00     14\n",
      "83.92     14\n",
      "91.57     14\n",
      "96.06     13\n",
      "          ..\n",
      "205.97     1\n",
      "123.35     1\n",
      "126.01     1\n",
      "190.39     1\n",
      "160.00     1\n",
      "Name: avg_glucose_level, Length: 11041, dtype: int64\n",
      "--------------------------------\n",
      "27.6    207\n",
      "26.1    207\n",
      "26.8    206\n",
      "27.5    202\n",
      "28.6    201\n",
      "       ... \n",
      "13.2      1\n",
      "67.0      1\n",
      "58.0      1\n",
      "61.6      1\n",
      "61.2      1\n",
      "Name: bmi, Length: 516, dtype: int64\n",
      "--------------------------------\n",
      "never smoked       15747\n",
      "formerly smoked     7099\n",
      "smokes              6226\n",
      "Name: smoking_status, dtype: int64\n",
      "--------------------------------\n",
      "0    28524\n",
      "1      548\n",
      "Name: stroke, dtype: int64\n"
     ]
    }
   ],
   "source": [
    "for i in columns:\n",
    "    print(\"--------------------------------\")\n",
    "    print(df[i].value_counts())"
   ]
  },
  {
   "cell_type": "code",
   "execution_count": 275,
   "metadata": {},
   "outputs": [],
   "source": [
    "df.drop(df[df[\"gender\"]==\"Other\"].index,inplace=True)"
   ]
  },
  {
   "cell_type": "code",
   "execution_count": 276,
   "metadata": {},
   "outputs": [
    {
     "name": "stdout",
     "output_type": "stream",
     "text": [
      "<class 'pandas.core.frame.DataFrame'>\n",
      "Int64Index: 29065 entries, 1 to 43399\n",
      "Data columns (total 11 columns):\n",
      "gender               29065 non-null object\n",
      "age                  29065 non-null float64\n",
      "hypertension         29065 non-null int64\n",
      "heart_disease        29065 non-null int64\n",
      "ever_married         29065 non-null object\n",
      "work_type            29065 non-null object\n",
      "Residence_type       29065 non-null object\n",
      "avg_glucose_level    29065 non-null float64\n",
      "bmi                  29065 non-null float64\n",
      "smoking_status       29065 non-null object\n",
      "stroke               29065 non-null int64\n",
      "dtypes: float64(3), int64(3), object(5)\n",
      "memory usage: 2.7+ MB\n"
     ]
    }
   ],
   "source": [
    "df.info()"
   ]
  },
  {
   "cell_type": "code",
   "execution_count": 277,
   "metadata": {},
   "outputs": [
    {
     "name": "stdout",
     "output_type": "stream",
     "text": [
      "--------------------------------\n",
      "Female    17852\n",
      "Male      11213\n",
      "Name: gender, dtype: int64\n",
      "--------------------------------\n",
      "51.0    585\n",
      "52.0    560\n",
      "47.0    549\n",
      "50.0    544\n",
      "57.0    543\n",
      "       ... \n",
      "14.0    187\n",
      "13.0    157\n",
      "12.0    143\n",
      "11.0    106\n",
      "10.0     77\n",
      "Name: age, Length: 73, dtype: int64\n",
      "--------------------------------\n",
      "0    25824\n",
      "1     3241\n",
      "Name: hypertension, dtype: int64\n",
      "--------------------------------\n",
      "0    27549\n",
      "1     1516\n",
      "Name: heart_disease, dtype: int64\n",
      "--------------------------------\n",
      "Yes    21687\n",
      "No      7378\n",
      "Name: ever_married, dtype: int64\n",
      "--------------------------------\n",
      "Private          18950\n",
      "Self-employed     5204\n",
      "Govt_job          4195\n",
      "children           615\n",
      "Never_worked       101\n",
      "Name: work_type, dtype: int64\n",
      "--------------------------------\n",
      "Urban    14592\n",
      "Rural    14473\n",
      "Name: Residence_type, dtype: int64\n",
      "--------------------------------\n",
      "87.15     15\n",
      "73.00     14\n",
      "91.57     14\n",
      "83.92     14\n",
      "93.58     13\n",
      "          ..\n",
      "205.97     1\n",
      "123.35     1\n",
      "126.01     1\n",
      "190.39     1\n",
      "160.00     1\n",
      "Name: avg_glucose_level, Length: 11041, dtype: int64\n",
      "--------------------------------\n",
      "27.6    207\n",
      "26.1    207\n",
      "26.8    206\n",
      "27.5    202\n",
      "28.6    201\n",
      "       ... \n",
      "13.2      1\n",
      "67.0      1\n",
      "58.0      1\n",
      "61.6      1\n",
      "61.2      1\n",
      "Name: bmi, Length: 516, dtype: int64\n",
      "--------------------------------\n",
      "never smoked       15746\n",
      "formerly smoked     7093\n",
      "smokes              6226\n",
      "Name: smoking_status, dtype: int64\n",
      "--------------------------------\n",
      "0    28517\n",
      "1      548\n",
      "Name: stroke, dtype: int64\n"
     ]
    }
   ],
   "source": [
    "for i in columns:\n",
    "    print(\"--------------------------------\")\n",
    "    print(df[i].value_counts())"
   ]
  },
  {
   "cell_type": "code",
   "execution_count": 278,
   "metadata": {},
   "outputs": [],
   "source": [
    "cat_df=df.select_dtypes(include=\"object\")"
   ]
  },
  {
   "cell_type": "code",
   "execution_count": 279,
   "metadata": {},
   "outputs": [
    {
     "data": {
      "text/html": [
       "<div>\n",
       "<style scoped>\n",
       "    .dataframe tbody tr th:only-of-type {\n",
       "        vertical-align: middle;\n",
       "    }\n",
       "\n",
       "    .dataframe tbody tr th {\n",
       "        vertical-align: top;\n",
       "    }\n",
       "\n",
       "    .dataframe thead th {\n",
       "        text-align: right;\n",
       "    }\n",
       "</style>\n",
       "<table border=\"1\" class=\"dataframe\">\n",
       "  <thead>\n",
       "    <tr style=\"text-align: right;\">\n",
       "      <th></th>\n",
       "      <th>gender</th>\n",
       "      <th>ever_married</th>\n",
       "      <th>work_type</th>\n",
       "      <th>Residence_type</th>\n",
       "      <th>smoking_status</th>\n",
       "    </tr>\n",
       "  </thead>\n",
       "  <tbody>\n",
       "    <tr>\n",
       "      <td>1</td>\n",
       "      <td>Male</td>\n",
       "      <td>Yes</td>\n",
       "      <td>Private</td>\n",
       "      <td>Urban</td>\n",
       "      <td>never smoked</td>\n",
       "    </tr>\n",
       "    <tr>\n",
       "      <td>3</td>\n",
       "      <td>Female</td>\n",
       "      <td>Yes</td>\n",
       "      <td>Private</td>\n",
       "      <td>Rural</td>\n",
       "      <td>formerly smoked</td>\n",
       "    </tr>\n",
       "    <tr>\n",
       "      <td>6</td>\n",
       "      <td>Female</td>\n",
       "      <td>Yes</td>\n",
       "      <td>Private</td>\n",
       "      <td>Urban</td>\n",
       "      <td>formerly smoked</td>\n",
       "    </tr>\n",
       "    <tr>\n",
       "      <td>7</td>\n",
       "      <td>Female</td>\n",
       "      <td>Yes</td>\n",
       "      <td>Self-employed</td>\n",
       "      <td>Rural</td>\n",
       "      <td>never smoked</td>\n",
       "    </tr>\n",
       "    <tr>\n",
       "      <td>8</td>\n",
       "      <td>Female</td>\n",
       "      <td>Yes</td>\n",
       "      <td>Private</td>\n",
       "      <td>Rural</td>\n",
       "      <td>smokes</td>\n",
       "    </tr>\n",
       "    <tr>\n",
       "      <td>...</td>\n",
       "      <td>...</td>\n",
       "      <td>...</td>\n",
       "      <td>...</td>\n",
       "      <td>...</td>\n",
       "      <td>...</td>\n",
       "    </tr>\n",
       "    <tr>\n",
       "      <td>43395</td>\n",
       "      <td>Female</td>\n",
       "      <td>No</td>\n",
       "      <td>children</td>\n",
       "      <td>Urban</td>\n",
       "      <td>never smoked</td>\n",
       "    </tr>\n",
       "    <tr>\n",
       "      <td>43396</td>\n",
       "      <td>Female</td>\n",
       "      <td>Yes</td>\n",
       "      <td>Govt_job</td>\n",
       "      <td>Urban</td>\n",
       "      <td>formerly smoked</td>\n",
       "    </tr>\n",
       "    <tr>\n",
       "      <td>43397</td>\n",
       "      <td>Female</td>\n",
       "      <td>Yes</td>\n",
       "      <td>Private</td>\n",
       "      <td>Urban</td>\n",
       "      <td>formerly smoked</td>\n",
       "    </tr>\n",
       "    <tr>\n",
       "      <td>43398</td>\n",
       "      <td>Male</td>\n",
       "      <td>Yes</td>\n",
       "      <td>Private</td>\n",
       "      <td>Urban</td>\n",
       "      <td>never smoked</td>\n",
       "    </tr>\n",
       "    <tr>\n",
       "      <td>43399</td>\n",
       "      <td>Female</td>\n",
       "      <td>Yes</td>\n",
       "      <td>Private</td>\n",
       "      <td>Urban</td>\n",
       "      <td>never smoked</td>\n",
       "    </tr>\n",
       "  </tbody>\n",
       "</table>\n",
       "<p>29065 rows × 5 columns</p>\n",
       "</div>"
      ],
      "text/plain": [
       "       gender ever_married      work_type Residence_type   smoking_status\n",
       "1        Male          Yes        Private          Urban     never smoked\n",
       "3      Female          Yes        Private          Rural  formerly smoked\n",
       "6      Female          Yes        Private          Urban  formerly smoked\n",
       "7      Female          Yes  Self-employed          Rural     never smoked\n",
       "8      Female          Yes        Private          Rural           smokes\n",
       "...       ...          ...            ...            ...              ...\n",
       "43395  Female           No       children          Urban     never smoked\n",
       "43396  Female          Yes       Govt_job          Urban  formerly smoked\n",
       "43397  Female          Yes        Private          Urban  formerly smoked\n",
       "43398    Male          Yes        Private          Urban     never smoked\n",
       "43399  Female          Yes        Private          Urban     never smoked\n",
       "\n",
       "[29065 rows x 5 columns]"
      ]
     },
     "execution_count": 279,
     "metadata": {},
     "output_type": "execute_result"
    }
   ],
   "source": [
    "cat_df"
   ]
  },
  {
   "cell_type": "code",
   "execution_count": 280,
   "metadata": {},
   "outputs": [],
   "source": [
    "encoders={}\n",
    "for i in cat_df:\n",
    "    encoders[i]=preprocessing.LabelEncoder()\n",
    "    df[i]=encoders[i].fit_transform(df[i])"
   ]
  },
  {
   "cell_type": "code",
   "execution_count": 281,
   "metadata": {},
   "outputs": [
    {
     "data": {
      "text/html": [
       "<div>\n",
       "<style scoped>\n",
       "    .dataframe tbody tr th:only-of-type {\n",
       "        vertical-align: middle;\n",
       "    }\n",
       "\n",
       "    .dataframe tbody tr th {\n",
       "        vertical-align: top;\n",
       "    }\n",
       "\n",
       "    .dataframe thead th {\n",
       "        text-align: right;\n",
       "    }\n",
       "</style>\n",
       "<table border=\"1\" class=\"dataframe\">\n",
       "  <thead>\n",
       "    <tr style=\"text-align: right;\">\n",
       "      <th></th>\n",
       "      <th>gender</th>\n",
       "      <th>age</th>\n",
       "      <th>hypertension</th>\n",
       "      <th>heart_disease</th>\n",
       "      <th>ever_married</th>\n",
       "      <th>work_type</th>\n",
       "      <th>Residence_type</th>\n",
       "      <th>avg_glucose_level</th>\n",
       "      <th>bmi</th>\n",
       "      <th>smoking_status</th>\n",
       "      <th>stroke</th>\n",
       "    </tr>\n",
       "  </thead>\n",
       "  <tbody>\n",
       "    <tr>\n",
       "      <td>1</td>\n",
       "      <td>1</td>\n",
       "      <td>58.0</td>\n",
       "      <td>1</td>\n",
       "      <td>0</td>\n",
       "      <td>1</td>\n",
       "      <td>2</td>\n",
       "      <td>1</td>\n",
       "      <td>87.96</td>\n",
       "      <td>39.2</td>\n",
       "      <td>1</td>\n",
       "      <td>0</td>\n",
       "    </tr>\n",
       "    <tr>\n",
       "      <td>3</td>\n",
       "      <td>0</td>\n",
       "      <td>70.0</td>\n",
       "      <td>0</td>\n",
       "      <td>0</td>\n",
       "      <td>1</td>\n",
       "      <td>2</td>\n",
       "      <td>0</td>\n",
       "      <td>69.04</td>\n",
       "      <td>35.9</td>\n",
       "      <td>0</td>\n",
       "      <td>0</td>\n",
       "    </tr>\n",
       "    <tr>\n",
       "      <td>6</td>\n",
       "      <td>0</td>\n",
       "      <td>52.0</td>\n",
       "      <td>0</td>\n",
       "      <td>0</td>\n",
       "      <td>1</td>\n",
       "      <td>2</td>\n",
       "      <td>1</td>\n",
       "      <td>77.59</td>\n",
       "      <td>17.7</td>\n",
       "      <td>0</td>\n",
       "      <td>0</td>\n",
       "    </tr>\n",
       "    <tr>\n",
       "      <td>7</td>\n",
       "      <td>0</td>\n",
       "      <td>75.0</td>\n",
       "      <td>0</td>\n",
       "      <td>1</td>\n",
       "      <td>1</td>\n",
       "      <td>3</td>\n",
       "      <td>0</td>\n",
       "      <td>243.53</td>\n",
       "      <td>27.0</td>\n",
       "      <td>1</td>\n",
       "      <td>0</td>\n",
       "    </tr>\n",
       "    <tr>\n",
       "      <td>8</td>\n",
       "      <td>0</td>\n",
       "      <td>32.0</td>\n",
       "      <td>0</td>\n",
       "      <td>0</td>\n",
       "      <td>1</td>\n",
       "      <td>2</td>\n",
       "      <td>0</td>\n",
       "      <td>77.67</td>\n",
       "      <td>32.3</td>\n",
       "      <td>2</td>\n",
       "      <td>0</td>\n",
       "    </tr>\n",
       "    <tr>\n",
       "      <td>...</td>\n",
       "      <td>...</td>\n",
       "      <td>...</td>\n",
       "      <td>...</td>\n",
       "      <td>...</td>\n",
       "      <td>...</td>\n",
       "      <td>...</td>\n",
       "      <td>...</td>\n",
       "      <td>...</td>\n",
       "      <td>...</td>\n",
       "      <td>...</td>\n",
       "      <td>...</td>\n",
       "    </tr>\n",
       "    <tr>\n",
       "      <td>43395</td>\n",
       "      <td>0</td>\n",
       "      <td>10.0</td>\n",
       "      <td>0</td>\n",
       "      <td>0</td>\n",
       "      <td>0</td>\n",
       "      <td>4</td>\n",
       "      <td>1</td>\n",
       "      <td>58.64</td>\n",
       "      <td>20.4</td>\n",
       "      <td>1</td>\n",
       "      <td>0</td>\n",
       "    </tr>\n",
       "    <tr>\n",
       "      <td>43396</td>\n",
       "      <td>0</td>\n",
       "      <td>56.0</td>\n",
       "      <td>0</td>\n",
       "      <td>0</td>\n",
       "      <td>1</td>\n",
       "      <td>0</td>\n",
       "      <td>1</td>\n",
       "      <td>213.61</td>\n",
       "      <td>55.4</td>\n",
       "      <td>0</td>\n",
       "      <td>0</td>\n",
       "    </tr>\n",
       "    <tr>\n",
       "      <td>43397</td>\n",
       "      <td>0</td>\n",
       "      <td>82.0</td>\n",
       "      <td>1</td>\n",
       "      <td>0</td>\n",
       "      <td>1</td>\n",
       "      <td>2</td>\n",
       "      <td>1</td>\n",
       "      <td>91.94</td>\n",
       "      <td>28.9</td>\n",
       "      <td>0</td>\n",
       "      <td>0</td>\n",
       "    </tr>\n",
       "    <tr>\n",
       "      <td>43398</td>\n",
       "      <td>1</td>\n",
       "      <td>40.0</td>\n",
       "      <td>0</td>\n",
       "      <td>0</td>\n",
       "      <td>1</td>\n",
       "      <td>2</td>\n",
       "      <td>1</td>\n",
       "      <td>99.16</td>\n",
       "      <td>33.2</td>\n",
       "      <td>1</td>\n",
       "      <td>0</td>\n",
       "    </tr>\n",
       "    <tr>\n",
       "      <td>43399</td>\n",
       "      <td>0</td>\n",
       "      <td>82.0</td>\n",
       "      <td>0</td>\n",
       "      <td>0</td>\n",
       "      <td>1</td>\n",
       "      <td>2</td>\n",
       "      <td>1</td>\n",
       "      <td>79.48</td>\n",
       "      <td>20.6</td>\n",
       "      <td>1</td>\n",
       "      <td>0</td>\n",
       "    </tr>\n",
       "  </tbody>\n",
       "</table>\n",
       "<p>29065 rows × 11 columns</p>\n",
       "</div>"
      ],
      "text/plain": [
       "       gender   age  hypertension  heart_disease  ever_married  work_type  \\\n",
       "1           1  58.0             1              0             1          2   \n",
       "3           0  70.0             0              0             1          2   \n",
       "6           0  52.0             0              0             1          2   \n",
       "7           0  75.0             0              1             1          3   \n",
       "8           0  32.0             0              0             1          2   \n",
       "...       ...   ...           ...            ...           ...        ...   \n",
       "43395       0  10.0             0              0             0          4   \n",
       "43396       0  56.0             0              0             1          0   \n",
       "43397       0  82.0             1              0             1          2   \n",
       "43398       1  40.0             0              0             1          2   \n",
       "43399       0  82.0             0              0             1          2   \n",
       "\n",
       "       Residence_type  avg_glucose_level   bmi  smoking_status  stroke  \n",
       "1                   1              87.96  39.2               1       0  \n",
       "3                   0              69.04  35.9               0       0  \n",
       "6                   1              77.59  17.7               0       0  \n",
       "7                   0             243.53  27.0               1       0  \n",
       "8                   0              77.67  32.3               2       0  \n",
       "...               ...                ...   ...             ...     ...  \n",
       "43395               1              58.64  20.4               1       0  \n",
       "43396               1             213.61  55.4               0       0  \n",
       "43397               1              91.94  28.9               0       0  \n",
       "43398               1              99.16  33.2               1       0  \n",
       "43399               1              79.48  20.6               1       0  \n",
       "\n",
       "[29065 rows x 11 columns]"
      ]
     },
     "execution_count": 281,
     "metadata": {},
     "output_type": "execute_result"
    }
   ],
   "source": [
    "df"
   ]
  },
  {
   "cell_type": "code",
   "execution_count": 282,
   "metadata": {},
   "outputs": [],
   "source": [
    "y=df['stroke']\n",
    "x=df.drop(\"stroke\",axis=1)"
   ]
  },
  {
   "cell_type": "code",
   "execution_count": 283,
   "metadata": {},
   "outputs": [
    {
     "data": {
      "text/plain": [
       "0    28517\n",
       "1      548\n",
       "Name: stroke, dtype: int64"
      ]
     },
     "execution_count": 283,
     "metadata": {},
     "output_type": "execute_result"
    }
   ],
   "source": [
    "y.value_counts()"
   ]
  },
  {
   "cell_type": "code",
   "execution_count": 284,
   "metadata": {},
   "outputs": [],
   "source": [
    "smote=SMOTE(sampling_strategy=\"minority\")\n",
    "x_sm,y_sm=smote.fit_resample(x,y)\n"
   ]
  },
  {
   "cell_type": "code",
   "execution_count": 285,
   "metadata": {},
   "outputs": [
    {
     "data": {
      "text/plain": [
       "1    28517\n",
       "0    28517\n",
       "Name: stroke, dtype: int64"
      ]
     },
     "execution_count": 285,
     "metadata": {},
     "output_type": "execute_result"
    }
   ],
   "source": [
    "y_sm.value_counts()"
   ]
  },
  {
   "cell_type": "code",
   "execution_count": 286,
   "metadata": {},
   "outputs": [],
   "source": [
    "x_train,x_test,y_train,y_test=train_test_split(x_sm,y_sm ,stratify=y_sm)"
   ]
  },
  {
   "cell_type": "code",
   "execution_count": 287,
   "metadata": {},
   "outputs": [],
   "source": [
    "forest=RandomForestClassifier(n_estimators=200,criterion=\"gini\")"
   ]
  },
  {
   "cell_type": "code",
   "execution_count": 288,
   "metadata": {},
   "outputs": [
    {
     "data": {
      "text/plain": [
       "RandomForestClassifier(n_estimators=200)"
      ]
     },
     "execution_count": 288,
     "metadata": {},
     "output_type": "execute_result"
    }
   ],
   "source": [
    "forest.fit(x_train,y_train)"
   ]
  },
  {
   "cell_type": "code",
   "execution_count": 289,
   "metadata": {},
   "outputs": [],
   "source": [
    "pred_f=forest.predict(x_test)"
   ]
  },
  {
   "cell_type": "code",
   "execution_count": 290,
   "metadata": {},
   "outputs": [
    {
     "name": "stdout",
     "output_type": "stream",
     "text": [
      "              precision    recall  f1-score   support\n",
      "\n",
      "           0       0.98      0.96      0.97      7129\n",
      "           1       0.96      0.98      0.97      7130\n",
      "\n",
      "    accuracy                           0.97     14259\n",
      "   macro avg       0.97      0.97      0.97     14259\n",
      "weighted avg       0.97      0.97      0.97     14259\n",
      "\n"
     ]
    }
   ],
   "source": [
    "print(classification_report(y_test,pred_f))"
   ]
  },
  {
   "cell_type": "code",
   "execution_count": 291,
   "metadata": {},
   "outputs": [
    {
     "name": "stdout",
     "output_type": "stream",
     "text": [
      "Accuracy: 0.971807279612876\n"
     ]
    }
   ],
   "source": [
    "print(\"Accuracy:\",metrics.accuracy_score(y_test, pred_f))"
   ]
  },
  {
   "cell_type": "code",
   "execution_count": 292,
   "metadata": {},
   "outputs": [
    {
     "name": "stderr",
     "output_type": "stream",
     "text": [
      "C:\\Users\\USER\\Anaconda3\\lib\\site-packages\\sklearn\\linear_model\\_logistic.py:765: ConvergenceWarning: lbfgs failed to converge (status=1):\n",
      "STOP: TOTAL NO. of ITERATIONS REACHED LIMIT.\n",
      "\n",
      "Increase the number of iterations (max_iter) or scale the data as shown in:\n",
      "    https://scikit-learn.org/stable/modules/preprocessing.html\n",
      "Please also refer to the documentation for alternative solver options:\n",
      "    https://scikit-learn.org/stable/modules/linear_model.html#logistic-regression\n",
      "  extra_warning_msg=_LOGISTIC_SOLVER_CONVERGENCE_MSG)\n"
     ]
    }
   ],
   "source": [
    "logistic=LogisticRegression()\n",
    "logistic.fit(x_train,y_train)\n",
    "pred_l=logistic.predict(x_test)"
   ]
  },
  {
   "cell_type": "code",
   "execution_count": 293,
   "metadata": {},
   "outputs": [
    {
     "name": "stdout",
     "output_type": "stream",
     "text": [
      "              precision    recall  f1-score   support\n",
      "\n",
      "           0       0.80      0.77      0.79      7129\n",
      "           1       0.78      0.81      0.79      7130\n",
      "\n",
      "    accuracy                           0.79     14259\n",
      "   macro avg       0.79      0.79      0.79     14259\n",
      "weighted avg       0.79      0.79      0.79     14259\n",
      "\n"
     ]
    }
   ],
   "source": [
    "print(classification_report(y_test,pred_l))"
   ]
  },
  {
   "cell_type": "code",
   "execution_count": 294,
   "metadata": {},
   "outputs": [
    {
     "name": "stdout",
     "output_type": "stream",
     "text": [
      "Accuracy: 0.7907987937443018\n"
     ]
    }
   ],
   "source": [
    "print(\"Accuracy:\",metrics.accuracy_score(y_test, pred_l))"
   ]
  },
  {
   "cell_type": "code",
   "execution_count": 247,
   "metadata": {},
   "outputs": [],
   "source": [
    "svm1=svm.SVC(gamma=\"auto\",C=10,kernel=\"rbf\",probability=True)\n"
   ]
  },
  {
   "cell_type": "code",
   "execution_count": 248,
   "metadata": {},
   "outputs": [],
   "source": [
    "svm1.fit(x_train,y_train)\n",
    "pred_s=svm1.predict(x_test)"
   ]
  },
  {
   "cell_type": "code",
   "execution_count": 249,
   "metadata": {},
   "outputs": [
    {
     "name": "stdout",
     "output_type": "stream",
     "text": [
      "              precision    recall  f1-score   support\n",
      "\n",
      "           0       0.99      0.95      0.97      7126\n",
      "           1       0.95      0.99      0.97      7133\n",
      "\n",
      "    accuracy                           0.97     14259\n",
      "   macro avg       0.97      0.97      0.97     14259\n",
      "weighted avg       0.97      0.97      0.97     14259\n",
      "\n"
     ]
    }
   ],
   "source": [
    "print(classification_report(y_test,pred_s))"
   ]
  },
  {
   "cell_type": "code",
   "execution_count": 250,
   "metadata": {},
   "outputs": [
    {
     "name": "stdout",
     "output_type": "stream",
     "text": [
      "Accuracy: 0.9716670173223929\n"
     ]
    }
   ],
   "source": [
    "print(\"Accuracy:\",metrics.accuracy_score(y_test, pred_s))"
   ]
  },
  {
   "cell_type": "code",
   "execution_count": 251,
   "metadata": {},
   "outputs": [],
   "source": [
    "gnb=GaussianNB()\n",
    "gnb.fit(x_train,y_train)\n",
    "pred_n=gnb.predict(x_test)"
   ]
  },
  {
   "cell_type": "code",
   "execution_count": 252,
   "metadata": {},
   "outputs": [
    {
     "name": "stdout",
     "output_type": "stream",
     "text": [
      "[[5297 1829]\n",
      " [1335 5798]]\n",
      "              precision    recall  f1-score   support\n",
      "\n",
      "           0       0.80      0.74      0.77      7126\n",
      "           1       0.76      0.81      0.79      7133\n",
      "\n",
      "    accuracy                           0.78     14259\n",
      "   macro avg       0.78      0.78      0.78     14259\n",
      "weighted avg       0.78      0.78      0.78     14259\n",
      "\n",
      "Accuracy: 0.7781050564555719\n"
     ]
    }
   ],
   "source": [
    "print(confusion_matrix(y_test,pred_n))\n",
    "print(classification_report(y_test,pred_n))\n",
    "print(\"Accuracy:\",metrics.accuracy_score(y_test,pred_n))"
   ]
  },
  {
   "cell_type": "code",
   "execution_count": 253,
   "metadata": {},
   "outputs": [],
   "source": [
    "classifier=AdaBoostClassifier(DecisionTreeClassifier(criterion=\"gini\"),algorithm=\"SAMME.R\",\n",
    "                         n_estimators=200)\n",
    "classifier.fit(x_train,y_train)\n",
    "pred_a=classifier.predict(x_test)"
   ]
  },
  {
   "cell_type": "code",
   "execution_count": 254,
   "metadata": {},
   "outputs": [
    {
     "name": "stdout",
     "output_type": "stream",
     "text": [
      "[[6724  402]\n",
      " [ 252 6881]]\n",
      "              precision    recall  f1-score   support\n",
      "\n",
      "           0       0.96      0.94      0.95      7126\n",
      "           1       0.94      0.96      0.95      7133\n",
      "\n",
      "    accuracy                           0.95     14259\n",
      "   macro avg       0.95      0.95      0.95     14259\n",
      "weighted avg       0.95      0.95      0.95     14259\n",
      "\n",
      "Accuracy: 0.9541342310119925\n"
     ]
    }
   ],
   "source": [
    "print(confusion_matrix(y_test,pred_a))\n",
    "print(classification_report(y_test,pred_a))\n",
    "print(\"Accuracy:\",metrics.accuracy_score(y_test, pred_a))"
   ]
  },
  {
   "cell_type": "code",
   "execution_count": 255,
   "metadata": {},
   "outputs": [],
   "source": [
    "r_probs = [0 for _ in range(len(y_test))]\n",
    "rf_probs = forest.predict_proba(x_test)\n",
    "lr_probs = logistic.predict_proba(x_test)\n",
    "dt_probs = classifier.predict_proba(x_test)\n",
    "nb_probs=gnb.predict_proba(x_test)\n",
    "sv_probs=svm1.predict_proba(x_test)"
   ]
  },
  {
   "cell_type": "code",
   "execution_count": 256,
   "metadata": {},
   "outputs": [],
   "source": [
    "rf_probs=rf_probs[:, 1]\n",
    "lr_probs=lr_probs[:, 1]\n",
    "dt_probs=dt_probs[:, 1]\n",
    "nb_probs=nb_probs[:, 1]\n",
    "sv_probs=sv_probs[:, 1]"
   ]
  },
  {
   "cell_type": "code",
   "execution_count": 257,
   "metadata": {},
   "outputs": [],
   "source": [
    "r_auc = roc_auc_score(y_test, r_probs)\n",
    "rf_auc = roc_auc_score(y_test, rf_probs)\n",
    "lr_auc = roc_auc_score(y_test, lr_probs)\n",
    "dt_auc = roc_auc_score(y_test, dt_probs)\n",
    "nb_auc = roc_auc_score(y_test, nb_probs)\n",
    "sv_auc = roc_auc_score(y_test, sv_probs)\n"
   ]
  },
  {
   "cell_type": "code",
   "execution_count": 258,
   "metadata": {},
   "outputs": [
    {
     "name": "stdout",
     "output_type": "stream",
     "text": [
      "Random (chance) Prediction: AUROC = 0.500\n",
      "Random Forest: AUROC = 0.996\n",
      "logistic regression: AUROC = 0.877\n",
      "decision tree: AUROC = 0.954\n",
      "Naive bayes: AUROC = 0.854\n",
      "svm: AUROC = 0.994\n"
     ]
    }
   ],
   "source": [
    "print('Random (chance) Prediction: AUROC = %.3f' % (r_auc))\n",
    "print('Random Forest: AUROC = %.3f' % (rf_auc))\n",
    "print('logistic regression: AUROC = %.3f' % (lr_auc))\n",
    "print('decision tree: AUROC = %.3f' % (dt_auc))\n",
    "print('Naive bayes: AUROC = %.3f' % (nb_auc))\n",
    "print('svm: AUROC = %.3f' % (sv_auc))\n"
   ]
  },
  {
   "cell_type": "code",
   "execution_count": 259,
   "metadata": {},
   "outputs": [],
   "source": [
    "r_fpr, r_tpr, _ = roc_curve(y_test, r_probs)\n",
    "rf_fpr, rf_tpr, _ = roc_curve(y_test, rf_probs)\n",
    "lr_fpr, lr_tpr, _ = roc_curve(y_test, lr_probs)\n",
    "dt_fpr, dt_tpr, _ = roc_curve(y_test, dt_probs)\n",
    "nb_fpr, nb_tpr, _ = roc_curve(y_test, nb_probs)\n",
    "sv_fpr, sv_tpr, _ = roc_curve(y_test, sv_probs)"
   ]
  },
  {
   "cell_type": "code",
   "execution_count": 260,
   "metadata": {},
   "outputs": [
    {
     "data": {
      "image/png": "[encoded data removed]",
      "text/plain": [
       "<Figure size 1440x1440 with 1 Axes>"
      ]
     },
     "metadata": {
      "needs_background": "light"
     },
     "output_type": "display_data"
    }
   ],
   "source": [
    "plt.figure(figsize=(20,20))\n",
    "plt.plot(r_fpr, r_tpr, linestyle='--', label='Random prediction (AUROC = %0.3f)' % r_auc)\n",
    "plt.plot(rf_fpr, rf_tpr, marker='.', label='Random Forest (AUROC = %0.3f)' % rf_auc)\n",
    "plt.plot(lr_fpr, lr_tpr, marker='.', label='logistic (AUROC = %0.3f)' % lr_auc)\n",
    "plt.plot(dt_fpr, dt_tpr, marker='.', label='decision tree(AUROC = %0.3f)' % dt_auc)\n",
    "plt.plot(nb_fpr, nb_tpr, marker='.', label='naive bayes(AUROC = %0.3f)' % nb_auc)\n",
    "plt.plot(sv_fpr, sv_tpr, marker='.', label='svm(AUROC = %0.3f)' % sv_auc)\n",
    "# Title\n",
    "plt.title('ROC Plot')\n",
    "\n",
    "# Axis labels\n",
    "plt.xlabel('False Positive Rate')\n",
    "plt.ylabel('True Positive Rate')\n",
    "# Show legend\n",
    "plt.legend() # \n",
    "# Show plot\n",
    "plt.show()"
   ]
  },
  {
   "cell_type": "code",
   "execution_count": 261,
   "metadata": {},
   "outputs": [
    {
     "data": {
      "text/plain": [
       "GridSearchCV(cv=5, estimator=RandomForestClassifier(),\n",
       "             param_grid={'criterion': ['gini', 'entropy'],\n",
       "                         'n_estimators': [10, 100, 200]})"
      ]
     },
     "execution_count": 261,
     "metadata": {},
     "output_type": "execute_result"
    }
   ],
   "source": [
    "clf=GridSearchCV(RandomForestClassifier(),{\n",
    "    \"n_estimators\":[10,100,200],\n",
    "    \"criterion\":[\"gini\",\"entropy\"]\n",
    "},cv=5,return_train_score=False)\n",
    "clf.fit(x_train,y_train)"
   ]
  },
  {
   "cell_type": "code",
   "execution_count": 262,
   "metadata": {},
   "outputs": [],
   "source": [
    "df5=pd.DataFrame(clf.cv_results_)"
   ]
  },
  {
   "cell_type": "code",
   "execution_count": 263,
   "metadata": {},
   "outputs": [
    {
     "data": {
      "text/html": [
       "<div>\n",
       "<style scoped>\n",
       "    .dataframe tbody tr th:only-of-type {\n",
       "        vertical-align: middle;\n",
       "    }\n",
       "\n",
       "    .dataframe tbody tr th {\n",
       "        vertical-align: top;\n",
       "    }\n",
       "\n",
       "    .dataframe thead th {\n",
       "        text-align: right;\n",
       "    }\n",
       "</style>\n",
       "<table border=\"1\" class=\"dataframe\">\n",
       "  <thead>\n",
       "    <tr style=\"text-align: right;\">\n",
       "      <th></th>\n",
       "      <th>mean_fit_time</th>\n",
       "      <th>std_fit_time</th>\n",
       "      <th>mean_score_time</th>\n",
       "      <th>std_score_time</th>\n",
       "      <th>param_criterion</th>\n",
       "      <th>param_n_estimators</th>\n",
       "      <th>params</th>\n",
       "      <th>split0_test_score</th>\n",
       "      <th>split1_test_score</th>\n",
       "      <th>split2_test_score</th>\n",
       "      <th>split3_test_score</th>\n",
       "      <th>split4_test_score</th>\n",
       "      <th>mean_test_score</th>\n",
       "      <th>std_test_score</th>\n",
       "      <th>rank_test_score</th>\n",
       "    </tr>\n",
       "  </thead>\n",
       "  <tbody>\n",
       "    <tr>\n",
       "      <td>0</td>\n",
       "      <td>0.440890</td>\n",
       "      <td>0.019628</td>\n",
       "      <td>0.019069</td>\n",
       "      <td>0.001958</td>\n",
       "      <td>gini</td>\n",
       "      <td>10</td>\n",
       "      <td>{'criterion': 'gini', 'n_estimators': 10}</td>\n",
       "      <td>0.966102</td>\n",
       "      <td>0.962478</td>\n",
       "      <td>0.957686</td>\n",
       "      <td>0.959673</td>\n",
       "      <td>0.960725</td>\n",
       "      <td>0.961333</td>\n",
       "      <td>0.002845</td>\n",
       "      <td>6</td>\n",
       "    </tr>\n",
       "    <tr>\n",
       "      <td>1</td>\n",
       "      <td>4.521244</td>\n",
       "      <td>0.103932</td>\n",
       "      <td>0.202614</td>\n",
       "      <td>0.004116</td>\n",
       "      <td>gini</td>\n",
       "      <td>100</td>\n",
       "      <td>{'criterion': 'gini', 'n_estimators': 100}</td>\n",
       "      <td>0.969608</td>\n",
       "      <td>0.966920</td>\n",
       "      <td>0.964348</td>\n",
       "      <td>0.966102</td>\n",
       "      <td>0.967621</td>\n",
       "      <td>0.966920</td>\n",
       "      <td>0.001732</td>\n",
       "      <td>1</td>\n",
       "    </tr>\n",
       "    <tr>\n",
       "      <td>2</td>\n",
       "      <td>9.355003</td>\n",
       "      <td>0.197121</td>\n",
       "      <td>0.437961</td>\n",
       "      <td>0.024886</td>\n",
       "      <td>gini</td>\n",
       "      <td>200</td>\n",
       "      <td>{'criterion': 'gini', 'n_estimators': 200}</td>\n",
       "      <td>0.968790</td>\n",
       "      <td>0.966569</td>\n",
       "      <td>0.963998</td>\n",
       "      <td>0.966452</td>\n",
       "      <td>0.968089</td>\n",
       "      <td>0.966780</td>\n",
       "      <td>0.001652</td>\n",
       "      <td>2</td>\n",
       "    </tr>\n",
       "    <tr>\n",
       "      <td>3</td>\n",
       "      <td>0.657032</td>\n",
       "      <td>0.048836</td>\n",
       "      <td>0.028973</td>\n",
       "      <td>0.003821</td>\n",
       "      <td>entropy</td>\n",
       "      <td>10</td>\n",
       "      <td>{'criterion': 'entropy', 'n_estimators': 10}</td>\n",
       "      <td>0.965985</td>\n",
       "      <td>0.963881</td>\n",
       "      <td>0.960140</td>\n",
       "      <td>0.958036</td>\n",
       "      <td>0.962478</td>\n",
       "      <td>0.962104</td>\n",
       "      <td>0.002784</td>\n",
       "      <td>5</td>\n",
       "    </tr>\n",
       "    <tr>\n",
       "      <td>4</td>\n",
       "      <td>6.134948</td>\n",
       "      <td>0.274765</td>\n",
       "      <td>0.214995</td>\n",
       "      <td>0.019950</td>\n",
       "      <td>entropy</td>\n",
       "      <td>100</td>\n",
       "      <td>{'criterion': 'entropy', 'n_estimators': 100}</td>\n",
       "      <td>0.969375</td>\n",
       "      <td>0.967154</td>\n",
       "      <td>0.964115</td>\n",
       "      <td>0.965985</td>\n",
       "      <td>0.965985</td>\n",
       "      <td>0.966523</td>\n",
       "      <td>0.001727</td>\n",
       "      <td>3</td>\n",
       "    </tr>\n",
       "    <tr>\n",
       "      <td>5</td>\n",
       "      <td>12.853358</td>\n",
       "      <td>0.572441</td>\n",
       "      <td>0.458973</td>\n",
       "      <td>0.030402</td>\n",
       "      <td>entropy</td>\n",
       "      <td>200</td>\n",
       "      <td>{'criterion': 'entropy', 'n_estimators': 200}</td>\n",
       "      <td>0.969608</td>\n",
       "      <td>0.966102</td>\n",
       "      <td>0.963530</td>\n",
       "      <td>0.965167</td>\n",
       "      <td>0.966335</td>\n",
       "      <td>0.966148</td>\n",
       "      <td>0.001991</td>\n",
       "      <td>4</td>\n",
       "    </tr>\n",
       "  </tbody>\n",
       "</table>\n",
       "</div>"
      ],
      "text/plain": [
       "   mean_fit_time  std_fit_time  mean_score_time  std_score_time  \\\n",
       "0       0.440890      0.019628         0.019069        0.001958   \n",
       "1       4.521244      0.103932         0.202614        0.004116   \n",
       "2       9.355003      0.197121         0.437961        0.024886   \n",
       "3       0.657032      0.048836         0.028973        0.003821   \n",
       "4       6.134948      0.274765         0.214995        0.019950   \n",
       "5      12.853358      0.572441         0.458973        0.030402   \n",
       "\n",
       "  param_criterion param_n_estimators  \\\n",
       "0            gini                 10   \n",
       "1            gini                100   \n",
       "2            gini                200   \n",
       "3         entropy                 10   \n",
       "4         entropy                100   \n",
       "5         entropy                200   \n",
       "\n",
       "                                          params  split0_test_score  \\\n",
       "0      {'criterion': 'gini', 'n_estimators': 10}           0.966102   \n",
       "1     {'criterion': 'gini', 'n_estimators': 100}           0.969608   \n",
       "2     {'criterion': 'gini', 'n_estimators': 200}           0.968790   \n",
       "3   {'criterion': 'entropy', 'n_estimators': 10}           0.965985   \n",
       "4  {'criterion': 'entropy', 'n_estimators': 100}           0.969375   \n",
       "5  {'criterion': 'entropy', 'n_estimators': 200}           0.969608   \n",
       "\n",
       "   split1_test_score  split2_test_score  split3_test_score  split4_test_score  \\\n",
       "0           0.962478           0.957686           0.959673           0.960725   \n",
       "1           0.966920           0.964348           0.966102           0.967621   \n",
       "2           0.966569           0.963998           0.966452           0.968089   \n",
       "3           0.963881           0.960140           0.958036           0.962478   \n",
       "4           0.967154           0.964115           0.965985           0.965985   \n",
       "5           0.966102           0.963530           0.965167           0.966335   \n",
       "\n",
       "   mean_test_score  std_test_score  rank_test_score  \n",
       "0         0.961333        0.002845                6  \n",
       "1         0.966920        0.001732                1  \n",
       "2         0.966780        0.001652                2  \n",
       "3         0.962104        0.002784                5  \n",
       "4         0.966523        0.001727                3  \n",
       "5         0.966148        0.001991                4  "
      ]
     },
     "execution_count": 263,
     "metadata": {},
     "output_type": "execute_result"
    }
   ],
   "source": [
    "df5"
   ]
  },
  {
   "cell_type": "code",
   "execution_count": null,
   "metadata": {},
   "outputs": [],
   "source": []
  }
 ],
 "metadata": {
  "kernelspec": {
   "display_name": "Python 3",
   "language": "python",
   "name": "python3"
  },
  "language_info": {
   "codemirror_mode": {
    "name": "ipython",
    "version": 3
   },
   "file_extension": ".py",
   "mimetype": "text/x-python",
   "name": "python",
   "nbconvert_exporter": "python",
   "pygments_lexer": "ipython3",
   "version": "3.7.4"
  }
 },
 "nbformat": 4,
 "nbformat_minor": 2
}
